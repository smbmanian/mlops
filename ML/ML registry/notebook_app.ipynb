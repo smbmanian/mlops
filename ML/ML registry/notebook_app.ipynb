{
 "metadata": {
  "kernelspec": {
   "display_name": "Streamlit Notebook",
   "name": "streamlit"
  }
 },
 "nbformat_minor": 5,
 "nbformat": 4,
 "cells": [
  {
   "cell_type": "code",
   "id": "3775908f-ca36-4846-8f38-5adca39217f2",
   "metadata": {
    "language": "python",
    "name": "cell1",
    "collapsed": false,
    "resultHeight": 0
   },
   "source": "# Import python packages\nimport streamlit as st\nimport pandas as pd\n\n# We can also use Snowpark for our analyses!\nfrom snowflake.snowpark.context import get_active_session\nsession = get_active_session()\n",
   "execution_count": null,
   "outputs": []
  },
  {
   "cell_type": "code",
   "id": "c695373e-ac74-4b62-a1f1-08206cbd5c81",
   "metadata": {
    "language": "python",
    "name": "cell3",
    "collapsed": false,
    "resultHeight": 0
   },
   "source": "# Snowpark for Python\nimport snowflake.snowpark.functions as F\nfrom snowflake.snowpark.types import DecimalType\nTRANSFORMERS_CACHE = '/tmp'\n# Snowpark ML\nimport snowflake.ml.modeling.preprocessing as snowml\nfrom snowflake.ml.modeling.pipeline import Pipeline\nfrom snowflake.ml.modeling.metrics.correlation import correlation\n#from snowflake.ml import classifier as clf\n\n# Data Science Libs\nimport numpy as np\nimport pandas as pd\nimport matplotlib.pyplot as plt\nimport seaborn as sns\nfrom snowflake.ml.model.model_signature import FeatureSpec, DataType, ModelSignature\nimport streamlit as st\nfrom sentence_transformers import SentenceTransformer\n",
   "execution_count": null,
   "outputs": []
  },
  {
   "cell_type": "code",
   "id": "41517af3-6347-4dca-8c1a-536c3da24c0d",
   "metadata": {
    "language": "python",
    "name": "cell4",
    "collapsed": false,
    "resultHeight": 0
   },
   "outputs": [],
   "source": "from snowflake.ml.registry import Registry\n\nreg = Registry(session=session, database_name=\"BMUTHUKRISHNAN_DB\", schema_name=\"REGISTRY\")",
   "execution_count": null
  },
  {
   "cell_type": "code",
   "id": "0e2f6a50-4877-40f7-b473-52d6130c23b1",
   "metadata": {
    "language": "python",
    "name": "cell2",
    "collapsed": false,
    "resultHeight": 749
   },
   "outputs": [],
   "source": "\ndf = session.table(\"QUICKSTART.ML_FUNCTIONS.FORECAST_TRAINING_v1\").select(\"AGE_BIN\").limit(10).to_pandas()\n\nst.write(\"Available models in the registry:\")\nst.write(reg.models())\n\nmodel_sig = ModelSignature(\n    inputs=[FeatureSpec(dtype=DataType.STRING, name='TEXT')],\n    outputs=[FeatureSpec(dtype=DataType.DOUBLE, name='EMBEDDING', shape=(384,))]\n)\n\nst.write(\"Getting model from HuggingFace\")\nmodel = SentenceTransformer('sentence-transformers/all-mpnet-base-v2')",
   "execution_count": null
  },
  {
   "cell_type": "code",
   "id": "46bafec4-3781-48e1-9181-f22caa9d0dac",
   "metadata": {
    "language": "python",
    "name": "cell5",
    "collapsed": false,
    "resultHeight": 295
   },
   "outputs": [],
   "source": "mv = reg.log_model(model='test',\n                   model_name=\"bank_classifier\",\n                   version_name=\"v1\",\n                   conda_dependencies=[\"scikit-learn\"],\n                   comment=\"My awesome ML model\",\n                   metrics={\"score\": 96},\n                   sample_input_data=df[\"AGE_BIN\"].tolist()\n)",
   "execution_count": null
  },
  {
   "cell_type": "code",
   "id": "529ed997-5b4a-4395-a3f3-0c35e5964ec6",
   "metadata": {
    "language": "python",
    "name": "cell6",
    "collapsed": false,
    "resultHeight": 111
   },
   "outputs": [],
   "source": "from pycaret.classification import ClassificationExperiment\nfrom pycaret.classification import predict_model, load_model\nfrom pycaret.datasets import get_data\n\nfrom snowflake.ml.model import custom_model\nfrom snowflake.ml.model import model_signature\nfrom snowflake.ml.registry import Registry\n\nimport os\nimport shutil\nimport pandas as pd\n\ndata = get_data('juice')\n\ncl_exp = ClassificationExperiment()\ncl_exp.setup(data, target='Purchase', session_id=123)\nbest_model = cl_exp.compare_models()\n\ncl_exp.save_model(best_model, \"juice_best_model\")\n\nARTIFACTS_DIR = \"/tmp/pycaret/\"\n\nos.makedirs(os.path.join(ARTIFACTS_DIR, \"model\"), exist_ok=True)\nshutil.move('juice_best_model.pkl', os.path.join(ARTIFACTS_DIR, 'model',  'juice_best_model.pkl'))\n\nclass PyCaretModel(custom_model.CustomModel):\n    def __init__(self, context: custom_model.ModelContext) -> None:\n        super().__init__(context)\n        #cl_exp = ClassificationExperiment()\n        model_dir = self.context.path(\"model_file\")[:-4]\n        self.model = load_model(model_dir, verbose=False)\n        self.model.memory='/tmp/' # Default is /var/ that is not accesable in a WH\n\n    @custom_model.inference_api\n    def predict(self, X: pd.DataFrame) -> pd.DataFrame:\n        model_output = predict_model(self.model, data=X)\n        res_df = pd.DataFrame({\"prediction_label\": model_output['prediction_label'], \"prediction_score\": model_output['prediction_score']})\n        \n        return res_df\n\npycaret_mc = custom_model.ModelContext(\n\tmodels={ # This should be for models that is supported by Model Registry\n\t},\n\tartifacts={ # Everything not supported needs to be here\n\t\t'model_file': os.path.join(ARTIFACTS_DIR, \"model\",  'juice_best_model.pkl'),\n\t}\n)\n\nmodel = PyCaretModel(pycaret_mc)\n\nmodel_name = \"pycaret_juice\"\nversion_name = \"v1\"\n\nreg = Registry(session)\n\noutput_data = data[['Purchase']]\noutput_data.columns = ['prediction_label']\nnew_data =[]\noutput_data_pd = pd.DataFrame([['CH', 0.876], ['CH', 0.876], ['CH', 0.876]], columns=['prediction_label', 'prediction_score'])\npredict_sign = model_signature.infer_signature(input_data=new_data, output_data=output_data_pd)\n\nmv = reg.log_model(\n    model,\n    model_name=model_name,\n    version_name=version_name,\n    conda_dependencies=[\"pycaret\"],\n    signatures={\n        \"predict\": predict_sign\n    },\n    #sample_input_data=data\n)",
   "execution_count": null
  }
 ]
}